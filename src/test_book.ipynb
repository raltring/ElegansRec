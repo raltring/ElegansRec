{
 "cells": [
  {
   "attachments": {},
   "cell_type": "markdown",
   "metadata": {},
   "source": [
    "Import the necessary packages"
   ]
  },
  {
   "cell_type": "code",
   "execution_count": 1,
   "metadata": {},
   "outputs": [],
   "source": [
    "import cv2\n",
    "import numpy as np\n",
    "import os\n",
    "import platform\n",
    "if platform.uname().system == 'Windows':\n",
    "    os.chdir('C:/Users/ralt6/source/repos/ElegansRec/')\n",
    "else:\n",
    "    os.chdir('/home/ryan/Projects/ElegansRec/')"
   ]
  },
  {
   "attachments": {},
   "cell_type": "markdown",
   "metadata": {},
   "source": [
    "Declare image paths"
   ]
  },
  {
   "cell_type": "code",
   "execution_count": 2,
   "metadata": {},
   "outputs": [],
   "source": [
    "main_img_path = 'src/images/Elegans_Test_1.jpg'\n",
    "el_img_path = 'src/images/ET1_sub.jpg'"
   ]
  },
  {
   "attachments": {},
   "cell_type": "markdown",
   "metadata": {},
   "source": [
    "Load images and reduce size by half"
   ]
  },
  {
   "cell_type": "code",
   "execution_count": 3,
   "metadata": {},
   "outputs": [],
   "source": [
    "main_img = cv2.imread(main_img_path, cv2.IMREAD_REDUCED_COLOR_2)\n",
    "el_img = cv2.imread(el_img_path, cv2.IMREAD_REDUCED_COLOR_2)"
   ]
  },
  {
   "attachments": {},
   "cell_type": "markdown",
   "metadata": {},
   "source": [
    "Display image sizes"
   ]
  },
  {
   "cell_type": "code",
   "execution_count": 4,
   "metadata": {},
   "outputs": [
    {
     "name": "stdout",
     "output_type": "stream",
     "text": [
      "Height = 839, width = 839\n",
      "Height = 96, width = 157\n"
     ]
    }
   ],
   "source": [
    "h, w = main_img.shape[:2]\n",
    "print(\"Height = {}, width = {}\".format(h,w))\n",
    "h,w = el_img.shape[:2]\n",
    "print(\"Height = {}, width = {}\".format(h,w))"
   ]
  },
  {
   "attachments": {},
   "cell_type": "markdown",
   "metadata": {
    "tags": []
   },
   "source": [
    "Extract R,B,G values from a particular pixel"
   ]
  },
  {
   "cell_type": "code",
   "execution_count": 5,
   "metadata": {},
   "outputs": [
    {
     "name": "stdout",
     "output_type": "stream",
     "text": [
      "R: 5, G: 5, B: 5\n"
     ]
    }
   ],
   "source": [
    "b, g, r = main_img[100,100]\n",
    "print('R: {}, G: {}, B: {}'.format(r,g,b))"
   ]
  },
  {
   "attachments": {},
   "cell_type": "markdown",
   "metadata": {},
   "source": [
    "Extract a particular region of interest"
   ]
  },
  {
   "cell_type": "code",
   "execution_count": 6,
   "metadata": {},
   "outputs": [],
   "source": [
    "roi = main_img[100:400, 100:400]\n",
    "def display_image(img):\n",
    "    cv2.imshow('Section', img)\n",
    "    cv2.waitKey(0)\n",
    "    cv2.destroyAllWindows()"
   ]
  },
  {
   "attachments": {},
   "cell_type": "markdown",
   "metadata": {},
   "source": [
    "Convert images to grayscale. Set pixel values above 120 to 255 and pixel at 120 or below to 0. Display image"
   ]
  },
  {
   "cell_type": "code",
   "execution_count": 7,
   "metadata": {},
   "outputs": [],
   "source": [
    "main_gs = cv2.cvtColor(main_img, cv2.COLOR_BGR2GRAY)\n",
    "enemy_gs = cv2.cvtColor(el_img, cv2.COLOR_BGR2GRAY)\n",
    "ret, thresh1 = cv2.threshold(main_gs, 120, 255, cv2.THRESH_BINARY)\n",
    "display_image(thresh1)"
   ]
  },
  {
   "attachments": {},
   "cell_type": "markdown",
   "metadata": {},
   "source": [
    "Compare enemy image against test image\n"
   ]
  },
  {
   "cell_type": "code",
   "execution_count": 8,
   "metadata": {},
   "outputs": [],
   "source": [
    "result = cv2.matchTemplate(main_img, el_img, cv2.TM_CCOEFF_NORMED)\n",
    "display_image(result)"
   ]
  },
  {
   "attachments": {},
   "cell_type": "markdown",
   "metadata": {},
   "source": [
    "Get the location of the max item observed"
   ]
  },
  {
   "cell_type": "code",
   "execution_count": 9,
   "metadata": {},
   "outputs": [
    {
     "name": "stdout",
     "output_type": "stream",
     "text": [
      "Image located at Location: (413, 468) with value: 0.988216757774353\n"
     ]
    }
   ],
   "source": [
    "min_val, max_val, min_loc, max_loc = cv2.minMaxLoc(result)\n",
    "print(\"Image located at Location: {} with value: {}\".format(max_loc, max_val))"
   ]
  },
  {
   "attachments": {},
   "cell_type": "markdown",
   "metadata": {},
   "source": [
    "Draw rectangle around found dead enemy in test image"
   ]
  },
  {
   "cell_type": "code",
   "execution_count": 10,
   "metadata": {},
   "outputs": [
    {
     "data": {
      "text/plain": [
       "True"
      ]
     },
     "execution_count": 10,
     "metadata": {},
     "output_type": "execute_result"
    }
   ],
   "source": [
    "eh,ew = el_img.shape[:2]\n",
    "top_left = max_loc\n",
    "bottom_right = (max_loc[0] + ew, max_loc[1] + eh)\n",
    "result = cv2.rectangle(main_img, top_left, bottom_right, color=(0,255,0), thickness=2, lineType=cv2.LINE_4)\n",
    "display_image(result)\n",
    "cv2.imwrite('src/images/test_image_1_ti1_result.jpg', result)"
   ]
  },
  {
   "attachments": {},
   "cell_type": "markdown",
   "metadata": {},
   "source": [
    "Gather list of results of nearly matching images above a certain threshold"
   ]
  },
  {
   "cell_type": "code",
   "execution_count": 11,
   "metadata": {},
   "outputs": [
    {
     "name": "stdout",
     "output_type": "stream",
     "text": [
      "[(427, 459), (428, 459), (429, 459), (430, 459), (431, 459), (424, 460), (425, 460), (426, 460), (427, 460), (428, 460), (429, 460), (430, 460), (431, 460), (420, 461), (421, 461), (422, 461), (423, 461), (424, 461), (425, 461), (426, 461), (427, 461), (428, 461), (429, 461), (430, 461), (431, 461), (416, 462), (417, 462), (418, 462), (419, 462), (420, 462), (421, 462), (422, 462), (423, 462), (424, 462), (425, 462), (426, 462), (427, 462), (428, 462), (429, 462), (430, 462), (431, 462), (413, 463), (414, 463), (415, 463), (416, 463), (417, 463), (418, 463), (419, 463), (420, 463), (421, 463), (422, 463), (423, 463), (424, 463), (425, 463), (426, 463), (427, 463), (428, 463), (429, 463), (430, 463), (410, 464), (411, 464), (412, 464), (413, 464), (414, 464), (415, 464), (416, 464), (417, 464), (418, 464), (419, 464), (420, 464), (421, 464), (422, 464), (423, 464), (424, 464), (425, 464), (426, 464), (427, 464), (428, 464), (429, 464), (408, 465), (409, 465), (410, 465), (411, 465), (412, 465), (413, 465), (414, 465), (415, 465), (416, 465), (417, 465), (418, 465), (419, 465), (420, 465), (421, 465), (422, 465), (423, 465), (424, 465), (425, 465), (426, 465), (427, 465), (428, 465), (406, 466), (407, 466), (408, 466), (409, 466), (410, 466), (411, 466), (412, 466), (413, 466), (414, 466), (415, 466), (416, 466), (417, 466), (418, 466), (419, 466), (420, 466), (421, 466), (422, 466), (423, 466), (424, 466), (425, 466), (426, 466), (404, 467), (405, 467), (406, 467), (407, 467), (408, 467), (409, 467), (410, 467), (411, 467), (412, 467), (413, 467), (414, 467), (415, 467), (416, 467), (417, 467), (418, 467), (419, 467), (420, 467), (421, 467), (422, 467), (423, 467), (424, 467), (425, 467), (402, 468), (403, 468), (404, 468), (405, 468), (406, 468), (407, 468), (408, 468), (409, 468), (410, 468), (411, 468), (412, 468), (413, 468), (414, 468), (415, 468), (416, 468), (417, 468), (418, 468), (419, 468), (420, 468), (421, 468), (422, 468), (423, 468), (400, 469), (401, 469), (402, 469), (403, 469), (404, 469), (405, 469), (406, 469), (407, 469), (408, 469), (409, 469), (410, 469), (411, 469), (412, 469), (413, 469), (414, 469), (415, 469), (416, 469), (417, 469), (418, 469), (419, 469), (420, 469), (421, 469), (399, 470), (400, 470), (401, 470), (402, 470), (403, 470), (404, 470), (405, 470), (406, 470), (407, 470), (408, 470), (409, 470), (410, 470), (411, 470), (412, 470), (413, 470), (414, 470), (415, 470), (416, 470), (417, 470), (418, 470), (419, 470), (398, 471), (399, 471), (400, 471), (401, 471), (402, 471), (403, 471), (404, 471), (405, 471), (406, 471), (407, 471), (408, 471), (409, 471), (410, 471), (411, 471), (412, 471), (413, 471), (414, 471), (415, 471), (416, 471), (417, 471), (397, 472), (398, 472), (399, 472), (400, 472), (401, 472), (402, 472), (403, 472), (404, 472), (405, 472), (406, 472), (407, 472), (408, 472), (409, 472), (410, 472), (411, 472), (412, 472), (413, 472), (414, 472), (415, 472), (396, 473), (397, 473), (398, 473), (399, 473), (400, 473), (401, 473), (402, 473), (403, 473), (404, 473), (405, 473), (406, 473), (407, 473), (408, 473), (409, 473), (410, 473), (411, 473), (412, 473), (395, 474), (396, 474), (397, 474), (398, 474), (399, 474), (400, 474), (401, 474), (402, 474), (403, 474), (404, 474), (405, 474), (406, 474), (407, 474), (408, 474), (409, 474), (395, 475), (396, 475), (397, 475), (398, 475), (399, 475), (400, 475), (401, 475), (402, 475), (403, 475), (404, 475), (405, 475), (395, 476), (396, 476), (397, 476), (398, 476), (399, 476), (400, 476), (401, 476), (396, 477), (397, 477), (398, 477), (679, 725), (680, 725), (681, 725), (682, 725), (673, 726), (674, 726), (675, 726), (676, 726), (677, 726), (678, 726), (679, 726), (680, 726), (681, 726), (682, 726), (668, 727), (669, 727), (670, 727), (671, 727), (672, 727), (673, 727), (674, 727), (675, 727), (676, 727), (677, 727), (678, 727), (679, 727), (680, 727), (681, 727), (682, 727), (665, 728), (666, 728), (667, 728), (668, 728), (669, 728), (670, 728), (671, 728), (672, 728), (673, 728), (674, 728), (675, 728), (676, 728), (677, 728), (678, 728), (679, 728), (680, 728), (681, 728), (662, 729), (663, 729), (664, 729), (665, 729), (666, 729), (667, 729), (668, 729), (669, 729), (670, 729), (671, 729), (672, 729), (673, 729), (674, 729), (675, 729), (676, 729), (677, 729), (678, 729), (679, 729), (660, 730), (661, 730), (662, 730), (663, 730), (664, 730), (665, 730), (666, 730), (667, 730), (668, 730), (669, 730), (670, 730), (671, 730), (672, 730), (673, 730), (674, 730), (675, 730), (676, 730), (677, 730), (658, 731), (659, 731), (660, 731), (661, 731), (662, 731), (663, 731), (664, 731), (665, 731), (666, 731), (667, 731), (668, 731), (669, 731), (658, 732), (659, 732), (660, 732), (661, 732), (662, 732), (663, 732), (664, 732), (665, 732)]\n"
     ]
    }
   ],
   "source": [
    "main_img = cv2.imread(main_img_path, cv2.IMREAD_REDUCED_COLOR_2)\n",
    "result = cv2.matchTemplate(main_img, el_img, cv2.TM_CCOEFF_NORMED)\n",
    "def find_above_threshold(result, threshold):\n",
    "    locations = np.where(result >= threshold)\n",
    "    return list(zip(*locations[::-1]))\n",
    "    #for i in range(len(result)):\n",
    "    #    for j in range(len(result[i])):\n",
    "    #        if result[i][j] > threshold:\n",
    "    #            print('Print threshold found at {} with value {}'.format((i,j), result[i][j]))\n",
    "print(find_above_threshold(result, 0.4))"
   ]
  },
  {
   "attachments": {},
   "cell_type": "markdown",
   "metadata": {},
   "source": [
    "Draw rectangles for all found locations"
   ]
  },
  {
   "cell_type": "code",
   "execution_count": 12,
   "metadata": {},
   "outputs": [],
   "source": [
    "def draw_rectangles(img, locations, dimension, name):\n",
    "    for i in locations:\n",
    "        top_left = i\n",
    "        bottom_right = (top_left[0] + dimension[0], top_left[1] + dimension[1])\n",
    "        cv2.rectangle(img, top_left, bottom_right, color=(0,255,0), thickness=2, lineType=cv2.LINE_4)\n",
    "    cv2.imwrite('src/images/{}.jpg'.format(name), img)\n",
    "\n",
    "el_img = cv2.imread(el_img_path)\n",
    "eh,ew = el_img.shape[:2]\n",
    "methods = [(cv2.TM_SQDIFF, 'SQDIFF'), (cv2.TM_SQDIFF_NORMED, 'SQDIFF_NORMED'), (cv2.TM_CCORR, 'CCORR'), \n",
    "    (cv2.TM_CCORR_NORMED, 'CCORR_NORMED'), (cv2.TM_CCOEFF, 'CCOEFF'), (cv2.TM_CCOEFF_NORMED, 'CCOEFF_NORMED')]\n",
    "for method in methods:\n",
    "    main_img = cv2.imread(main_img_path)\n",
    "    result = cv2.matchTemplate(main_img, el_img, method[0])\n",
    "    locations = find_above_threshold(result, 0.8)\n",
    "    draw_rectangles(main_img, locations, (ew,eh), 'ti1_el_test_result2_{}'.format(method[1]))"
   ]
  },
  {
   "cell_type": "markdown",
   "metadata": {},
   "source": []
  },
  {
   "cell_type": "code",
   "execution_count": 19,
   "metadata": {},
   "outputs": [],
   "source": [
    "main_img = cv2.imread(main_img_path)\n",
    "result = cv2.matchTemplate(main_img, el_img, cv2.TM_CCOEFF_NORMED)\n",
    "locations = find_above_threshold(result, 0.2)\n",
    "draw_rectangles(main_img, locations, (ew,eh), 'ti1_el_test_result2_{}'.format('CCOEFF_NORMED_0.2'))"
   ]
  },
  {
   "cell_type": "markdown",
   "metadata": {},
   "source": []
  },
  {
   "cell_type": "code",
   "execution_count": null,
   "metadata": {},
   "outputs": [],
   "source": []
  }
 ],
 "metadata": {
  "kernelspec": {
   "display_name": "Python 3",
   "language": "python",
   "name": "python3"
  },
  "language_info": {
   "codemirror_mode": {
    "name": "ipython",
    "version": 3
   },
   "file_extension": ".py",
   "mimetype": "text/x-python",
   "name": "python",
   "nbconvert_exporter": "python",
   "pygments_lexer": "ipython3",
   "version": "3.9.7"
  },
  "orig_nbformat": 4,
  "vscode": {
   "interpreter": {
    "hash": "c347c8f9a7ef94e4c9e03b4513be7835ed18f45b99a2a817fb579f408b867b16"
   }
  }
 },
 "nbformat": 4,
 "nbformat_minor": 2
}
